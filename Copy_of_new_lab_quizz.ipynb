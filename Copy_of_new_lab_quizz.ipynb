{
  "nbformat": 4,
  "nbformat_minor": 0,
  "metadata": {
    "colab": {
      "provenance": [],
      "authorship_tag": "ABX9TyO/6IuS7Fp+8hDN7wDxX5vH",
      "include_colab_link": true
    },
    "kernelspec": {
      "name": "python3",
      "display_name": "Python 3"
    },
    "language_info": {
      "name": "python"
    }
  },
  "cells": [
    {
      "cell_type": "markdown",
      "metadata": {
        "id": "view-in-github",
        "colab_type": "text"
      },
      "source": [
        "<a href=\"https://colab.research.google.com/github/Swagaat/lab--quizz/blob/main/Copy_of_new_lab_quizz.ipynb\" target=\"_parent\"><img src=\"https://colab.research.google.com/assets/colab-badge.svg\" alt=\"Open In Colab\"/></a>"
      ]
    },
    {
      "cell_type": "code",
      "source": [
        "def foo(lst):\n",
        "# Iterate through the elements of the list\n",
        "    for elem in lst:\n",
        "        # If the element appears only once in the list, return it\n",
        "        if lst.count(elem) == 1:\n",
        "            return elem\n",
        "\n",
        "    # If no single element is found, return None\n",
        "    return None\n",
        "print(foo([\"a\", 3, 4, \"a\", 3]))  \n",
        "print(foo([\"good\", \"one\", \"good\", \"one\",]))  \n",
        "print(foo([\"good\"])) "
      ],
      "metadata": {
        "colab": {
          "base_uri": "https://localhost:8080/"
        },
        "id": "NWcuS4YIG6kn",
        "outputId": "0cb9cf79-25c5-4d69-80fa-3ab2c318d9db"
      },
      "execution_count": 2,
      "outputs": [
        {
          "output_type": "stream",
          "name": "stdout",
          "text": [
            "4\n",
            "None\n",
            "good\n"
          ]
        }
      ]
    }
  ]
}